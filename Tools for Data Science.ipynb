{
 "cells": [
  {
   "cell_type": "markdown",
   "id": "4792125b",
   "metadata": {},
   "source": [
    "# Exercise 2 - Tools for Data Science"
   ]
  },
  {
   "cell_type": "markdown",
   "id": "fb152f82",
   "metadata": {},
   "source": [
    "## Exercise 3 - Introduction:\n",
    "\n",
    "Data science has emerged as a transformative force across various industries, revolutionizing decision-making, predictions, and insights. At the heart of this evolution lie powerful tools that enable professionals to navigate the vast sea of data, extract meaningful patterns, and unravel hidden insights. The field of data science thrives on these tools, equipping analysts and researchers with the ability to convert raw data into actionable knowledge. In this essay, we will explore the pivotal role that tools play in data science, elucidating their significance and impact on this burgeoning field.\n",
    "\n",
    "In an era where information is abundant yet often overwhelming, data science tools serve as a compass for steering through the complex landscape of data. These tools encompass a spectrum of technologies, encompassing programming languages, software libraries, integrated development environments, and data visualization platforms. Foremost among these tools are programming languages like Python, R, and Julia. Renowned for their versatility and user-friendly syntax, these languages provide the foundation for data manipulation, analysis, and modeling.\n",
    "\n",
    "Python, in particular, has emerged as the lingua franca of data science. With its extensive ecosystem of libraries like NumPy, Pandas, Matplotlib, and Scikit-learn, Python empowers data scientists to efficiently preprocess data, perform statistical analysis, and develop machine learning models. Similarly, R offers a specialized environment tailored for statistical computing and visualization, making it indispensable for researchers in fields like economics, biology, and social sciences.\n",
    "\n",
    "As data sets continue to swell in size and complexity, tools for big data management and processing have become paramount. Apache Hadoop and Apache Spark are two such tools that have revolutionized the way large-scale data processing is conducted. By distributing data across clusters and executing computations in parallel, these tools facilitate efficient analysis of data sets that were once deemed unwieldy.\n",
    "\n",
    "Moreover, data visualization tools play an essential role in conveying insights to both technical and non-technical audiences. Platforms like Tableau, Power BI, and D3.js enable the creation of interactive and informative visualizations, enabling decision-makers to grasp complex patterns at a glance. A well-crafted visualization has the power to transcend numbers, transforming them into narratives that resonate with stakeholders.\n",
    "\n",
    "Furthermore, version control systems like Git and collaboration platforms like GitHub have reshaped the way data scientists work together. These tools provide an avenue for seamless collaboration, enabling multiple contributors to work on projects simultaneously while maintaining a coherent history of changes.\n",
    "\n",
    "Welcome to this Jupyter Notebook! In this notebook, we will explore various exercises related to data science concepts and coding examples."
   ]
  },
  {
   "cell_type": "markdown",
   "id": "b7926ece",
   "metadata": {},
   "source": [
    "## Exercise 4 - Data Science Languages\n",
    "- Python\n",
    "- R\n",
    "- Julia\n",
    "- SQL"
   ]
  },
  {
   "cell_type": "markdown",
   "id": "32ffe222",
   "metadata": {},
   "source": [
    "## Exercise 5 - Data Science Libraries\n",
    "- NumPy\n",
    "- Pandas\n",
    "- Matplotlib\n",
    "- Seaborn\n",
    "- Scikit-learn"
   ]
  },
  {
   "cell_type": "markdown",
   "id": "1d6adfc8",
   "metadata": {},
   "source": [
    "## Exercise 6 - Data Science Tools\n",
    "| Tool          | Description                            |\n",
    "|---------------|----------------------------------------|\n",
    "| Jupyter       | Interactive coding environment         |\n",
    "| Git/GitHub    | Version control and collaboration     |\n",
    "| SQL Database  | Data storage and retrieval            |\n",
    "| Tableau       | Data visualization tool               |"
   ]
  },
  {
   "cell_type": "markdown",
   "id": "21d2fcba",
   "metadata": {},
   "source": [
    "## Exercise 7 - Arithmetic Expression Examples\n",
    "Let's explore some arithmetic expressions to perform calculations."
   ]
  },
  {
   "cell_type": "markdown",
   "id": "3ad905ba",
   "metadata": {},
   "source": [
    "## Exercise 8 - Multiplication and Addition"
   ]
  },
  {
   "cell_type": "code",
   "execution_count": 4,
   "id": "2806abf4",
   "metadata": {},
   "outputs": [
    {
     "name": "stdout",
     "output_type": "stream",
     "text": [
      "Result: 25\n"
     ]
    }
   ],
   "source": [
    "# Multiplication and Addition\n",
    "a = 5\n",
    "b = 3\n",
    "result = a * b + 10\n",
    "print(\"Result:\", result)"
   ]
  },
  {
   "cell_type": "markdown",
   "id": "6003dec2",
   "metadata": {},
   "source": [
    "## Exercise 9 - Convert Minutes to Hours"
   ]
  },
  {
   "cell_type": "code",
   "execution_count": 5,
   "id": "48065f07",
   "metadata": {},
   "outputs": [
    {
     "name": "stdout",
     "output_type": "stream",
     "text": [
      "Hours: 2.5\n"
     ]
    }
   ],
   "source": [
    "# Convert Minutes to Hours\n",
    "minutes = 150\n",
    "hours = minutes / 60\n",
    "print(\"Hours:\", hours)"
   ]
  },
  {
   "cell_type": "markdown",
   "id": "33250d07",
   "metadata": {},
   "source": [
    "## Exercise 10 - Objectives\n",
    "In this notebook, we aim to:\n",
    "\n",
    "Explore data science languages and libraries.\n",
    "Understand basic arithmetic expressions.\n",
    "Perform calculations using Python."
   ]
  },
  {
   "cell_type": "markdown",
   "id": "990c758c",
   "metadata": {},
   "source": [
    "## Exercise 11 - Author's Name\n",
    "\n",
    "This notebook was created by Evans Sansolis."
   ]
  },
  {
   "cell_type": "code",
   "execution_count": null,
   "id": "b0b67bb7",
   "metadata": {},
   "outputs": [],
   "source": []
  }
 ],
 "metadata": {
  "kernelspec": {
   "display_name": "Python 3 (ipykernel)",
   "language": "python",
   "name": "python3"
  },
  "language_info": {
   "codemirror_mode": {
    "name": "ipython",
    "version": 3
   },
   "file_extension": ".py",
   "mimetype": "text/x-python",
   "name": "python",
   "nbconvert_exporter": "python",
   "pygments_lexer": "ipython3",
   "version": "3.11.3"
  }
 },
 "nbformat": 4,
 "nbformat_minor": 5
}
